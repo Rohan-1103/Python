{
 "cells": [
  {
   "cell_type": "markdown",
   "id": "8b9ab596",
   "metadata": {},
   "source": [
    "# if-elif-else "
   ]
  },
  {
   "cell_type": "code",
   "execution_count": 1,
   "id": "e34c2fc2",
   "metadata": {},
   "outputs": [
    {
     "name": "stdout",
     "output_type": "stream",
     "text": [
      "It worked\n"
     ]
    }
   ],
   "source": [
    "if 23 > 10:\n",
    "    print(\"It worked\")"
   ]
  },
  {
   "cell_type": "code",
   "execution_count": 4,
   "id": "4f41147e",
   "metadata": {},
   "outputs": [
    {
     "name": "stdout",
     "output_type": "stream",
     "text": [
      "It didnt work...\n"
     ]
    }
   ],
   "source": [
    "if 25 < 10:\n",
    "    print(\"It worked\")\n",
    "else:\n",
    "    print(\"It didnt work...\")"
   ]
  },
  {
   "cell_type": "code",
   "execution_count": 5,
   "id": "ae20a2e0",
   "metadata": {},
   "outputs": [
    {
     "name": "stdout",
     "output_type": "stream",
     "text": [
      "It worked\n"
     ]
    }
   ],
   "source": [
    "if 25 > 10:\n",
    "    print(\"It worked\")\n",
    "else:\n",
    "    print(\"It didnt work...\")"
   ]
  },
  {
   "cell_type": "code",
   "execution_count": 8,
   "id": "fbd08ed6",
   "metadata": {},
   "outputs": [
    {
     "name": "stdout",
     "output_type": "stream",
     "text": [
      "elif worked...\n"
     ]
    }
   ],
   "source": [
    "if 25 < 10:\n",
    "    print(\"It worked\")\n",
    "elif 25 < 30:\n",
    "    print(\"elif worked...\")\n",
    "else:\n",
    "    print(\"It didnt work...\")"
   ]
  },
  {
   "cell_type": "code",
   "execution_count": 10,
   "id": "4d2f6cc6",
   "metadata": {},
   "outputs": [
    {
     "name": "stdout",
     "output_type": "stream",
     "text": [
      "elif 3 worked...\n"
     ]
    }
   ],
   "source": [
    "if (25 < 10) and(25 > 10):\n",
    "    print(\"It worked\")\n",
    "elif 25 < 13:\n",
    "    print(\"elif 1 worked...\")\n",
    "elif 25 < 20:\n",
    "    print(\"elif 2 worked...\")\n",
    "elif 25 < 30:\n",
    "    print(\"elif 3 worked...\")\n",
    "elif 25 == 30:\n",
    "    print(\"elif 4 worked...\")\n",
    "else:\n",
    "    print(\"It didnt work...\")"
   ]
  },
  {
   "cell_type": "code",
   "execution_count": 11,
   "id": "ab414d93",
   "metadata": {},
   "outputs": [
    {
     "name": "stdout",
     "output_type": "stream",
     "text": [
      "It worked\n"
     ]
    }
   ],
   "source": [
    "if (25 < 10) or (25 > 10):\n",
    "    print(\"It worked\")\n",
    "elif 25 < 13:\n",
    "    print(\"elif 1 worked...\")\n",
    "elif 25 < 20:\n",
    "    print(\"elif 2 worked...\")\n",
    "elif 25 < 30:\n",
    "    print(\"elif 3 worked...\")\n",
    "elif 25 == 30:\n",
    "    print(\"elif 4 worked...\")-\n",
    "else:\n",
    "    print(\"It didnt work...\")"
   ]
  },
  {
   "cell_type": "code",
   "execution_count": 12,
   "id": "aac092bd",
   "metadata": {},
   "outputs": [
    {
     "name": "stdout",
     "output_type": "stream",
     "text": [
      "It didnt work...\n"
     ]
    }
   ],
   "source": [
    "print(\"It worked!\") if 10 > 30 else print(\"It didnt work...\")"
   ]
  },
  {
   "cell_type": "code",
   "execution_count": 15,
   "id": "7696204f",
   "metadata": {},
   "outputs": [
    {
     "name": "stdout",
     "output_type": "stream",
     "text": [
      "It worked\n",
      "This is nested if statement\n"
     ]
    }
   ],
   "source": [
    "if (25 < 10) or (25 > 10):\n",
    "    print(\"It worked\")\n",
    "    if 10 > 5:\n",
    "        print(\"This is nested if statement\")\n",
    "elif 25 < 13:\n",
    "    print(\"elif 1 worked...\")\n",
    "elif 25 < 20:\n",
    "    print(\"elif 2 worked...\")\n",
    "elif 25 < 30:\n",
    "    print(\"elif 3 worked...\")\n",
    "elif 25 == 30:\n",
    "    print(\"elif 4 worked...\")\n",
    "else:\n",
    "    print(\"It didnt work...\")"
   ]
  },
  {
   "cell_type": "code",
   "execution_count": null,
   "id": "1faa04ba",
   "metadata": {},
   "outputs": [],
   "source": []
  }
 ],
 "metadata": {
  "kernelspec": {
   "display_name": "Python 3 (ipykernel)",
   "language": "python",
   "name": "python3"
  },
  "language_info": {
   "codemirror_mode": {
    "name": "ipython",
    "version": 3
   },
   "file_extension": ".py",
   "mimetype": "text/x-python",
   "name": "python",
   "nbconvert_exporter": "python",
   "pygments_lexer": "ipython3",
   "version": "3.11.5"
  }
 },
 "nbformat": 4,
 "nbformat_minor": 5
}
