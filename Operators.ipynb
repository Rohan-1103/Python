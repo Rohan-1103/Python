{
 "cells": [
  {
   "cell_type": "markdown",
   "id": "f0187743",
   "metadata": {},
   "source": [
    "# Comparision operators"
   ]
  },
  {
   "cell_type": "code",
   "execution_count": 1,
   "id": "8423be8f",
   "metadata": {},
   "outputs": [
    {
     "data": {
      "text/plain": [
       "True"
      ]
     },
     "execution_count": 1,
     "metadata": {},
     "output_type": "execute_result"
    }
   ],
   "source": [
    "10 == 10"
   ]
  },
  {
   "cell_type": "code",
   "execution_count": 3,
   "id": "11f8b2b4",
   "metadata": {},
   "outputs": [
    {
     "data": {
      "text/plain": [
       "False"
      ]
     },
     "execution_count": 3,
     "metadata": {},
     "output_type": "execute_result"
    }
   ],
   "source": [
    "10 == 50"
   ]
  },
  {
   "cell_type": "code",
   "execution_count": 4,
   "id": "b18aa6c7",
   "metadata": {},
   "outputs": [
    {
     "data": {
      "text/plain": [
       "False"
      ]
     },
     "execution_count": 4,
     "metadata": {},
     "output_type": "execute_result"
    }
   ],
   "source": [
    "'Vanilla' == 'Cotton Candy'"
   ]
  },
  {
   "cell_type": "code",
   "execution_count": 5,
   "id": "ef6ecb10",
   "metadata": {},
   "outputs": [
    {
     "data": {
      "text/plain": [
       "True"
      ]
     },
     "execution_count": 5,
     "metadata": {},
     "output_type": "execute_result"
    }
   ],
   "source": [
    "x = 'Vanilla'\n",
    "y = 'Cotton Candy'\n",
    "\n",
    "y != x"
   ]
  },
  {
   "cell_type": "code",
   "execution_count": 6,
   "id": "f2231caa",
   "metadata": {},
   "outputs": [
    {
     "data": {
      "text/plain": [
       "True"
      ]
     },
     "execution_count": 6,
     "metadata": {},
     "output_type": "execute_result"
    }
   ],
   "source": [
    "10 < 50"
   ]
  },
  {
   "cell_type": "code",
   "execution_count": 8,
   "id": "b643f84b",
   "metadata": {},
   "outputs": [
    {
     "data": {
      "text/plain": [
       "False"
      ]
     },
     "execution_count": 8,
     "metadata": {},
     "output_type": "execute_result"
    }
   ],
   "source": [
    "10 < 10"
   ]
  },
  {
   "cell_type": "code",
   "execution_count": 9,
   "id": "7a478994",
   "metadata": {},
   "outputs": [
    {
     "data": {
      "text/plain": [
       "True"
      ]
     },
     "execution_count": 9,
     "metadata": {},
     "output_type": "execute_result"
    }
   ],
   "source": [
    "10 <= 10"
   ]
  },
  {
   "cell_type": "code",
   "execution_count": 10,
   "id": "a2e8676f",
   "metadata": {},
   "outputs": [
    {
     "data": {
      "text/plain": [
       "True"
      ]
     },
     "execution_count": 10,
     "metadata": {},
     "output_type": "execute_result"
    }
   ],
   "source": [
    "10 > 2"
   ]
  },
  {
   "cell_type": "markdown",
   "id": "d6244b84",
   "metadata": {},
   "source": [
    "# Logical operators"
   ]
  },
  {
   "cell_type": "code",
   "execution_count": 11,
   "id": "0a886732",
   "metadata": {},
   "outputs": [
    {
     "data": {
      "text/plain": [
       "False"
      ]
     },
     "execution_count": 11,
     "metadata": {},
     "output_type": "execute_result"
    }
   ],
   "source": [
    "(10 > 2) and (50 < 50)"
   ]
  },
  {
   "cell_type": "code",
   "execution_count": 12,
   "id": "59d557d9",
   "metadata": {},
   "outputs": [
    {
     "data": {
      "text/plain": [
       "True"
      ]
     },
     "execution_count": 12,
     "metadata": {},
     "output_type": "execute_result"
    }
   ],
   "source": [
    "(10 > 2) and (50 <= 50)"
   ]
  },
  {
   "cell_type": "code",
   "execution_count": 13,
   "id": "c312afc2",
   "metadata": {},
   "outputs": [
    {
     "data": {
      "text/plain": [
       "True"
      ]
     },
     "execution_count": 13,
     "metadata": {},
     "output_type": "execute_result"
    }
   ],
   "source": [
    "(10 > 2) or (50 < 50)"
   ]
  },
  {
   "cell_type": "code",
   "execution_count": 14,
   "id": "bc8ed4f6",
   "metadata": {},
   "outputs": [
    {
     "data": {
      "text/plain": [
       "True"
      ]
     },
     "execution_count": 14,
     "metadata": {},
     "output_type": "execute_result"
    }
   ],
   "source": [
    "('Vanilla' > 'Cotton Candy') and (50 > 10)"
   ]
  },
  {
   "cell_type": "code",
   "execution_count": 15,
   "id": "32845269",
   "metadata": {},
   "outputs": [
    {
     "data": {
      "text/plain": [
       "False"
      ]
     },
     "execution_count": 15,
     "metadata": {},
     "output_type": "execute_result"
    }
   ],
   "source": [
    "not (50 > 10)"
   ]
  },
  {
   "cell_type": "markdown",
   "id": "a3d1ba9b",
   "metadata": {},
   "source": [
    "# membership operators\n"
   ]
  },
  {
   "cell_type": "code",
   "execution_count": 16,
   "id": "b2d7499b",
   "metadata": {},
   "outputs": [
    {
     "data": {
      "text/plain": [
       "True"
      ]
     },
     "execution_count": 16,
     "metadata": {},
     "output_type": "execute_result"
    }
   ],
   "source": [
    "ice_cream = 'I love Cotton candy ice cream'\n",
    "'Cotton' in ice_cream"
   ]
  },
  {
   "cell_type": "code",
   "execution_count": 17,
   "id": "a35334e2",
   "metadata": {},
   "outputs": [
    {
     "data": {
      "text/plain": [
       "False"
      ]
     },
     "execution_count": 17,
     "metadata": {},
     "output_type": "execute_result"
    }
   ],
   "source": [
    "ice_cream = 'I love Cotton candy ice cream'\n",
    "'cotton' in ice_cream"
   ]
  },
  {
   "cell_type": "code",
   "execution_count": 18,
   "id": "d842c03f",
   "metadata": {},
   "outputs": [
    {
     "data": {
      "text/plain": [
       "True"
      ]
     },
     "execution_count": 18,
     "metadata": {},
     "output_type": "execute_result"
    }
   ],
   "source": [
    "ice_cream = 'I love Cotton candy ice cream'\n",
    "'Cotton candy' in ice_cream"
   ]
  },
  {
   "cell_type": "code",
   "execution_count": 1,
   "id": "4cae7130",
   "metadata": {},
   "outputs": [
    {
     "data": {
      "text/plain": [
       "True"
      ]
     },
     "execution_count": 1,
     "metadata": {},
     "output_type": "execute_result"
    }
   ],
   "source": [
    "scoops = [1, 3, 5, 7]\n",
    "\n",
    "3 in scoops"
   ]
  },
  {
   "cell_type": "code",
   "execution_count": 2,
   "id": "bed86274",
   "metadata": {},
   "outputs": [
    {
     "data": {
      "text/plain": [
       "False"
      ]
     },
     "execution_count": 2,
     "metadata": {},
     "output_type": "execute_result"
    }
   ],
   "source": [
    "scoops = [2, 4, 6, 8]\n",
    "\n",
    "3 in scoops"
   ]
  },
  {
   "cell_type": "code",
   "execution_count": 3,
   "id": "2a40b55d",
   "metadata": {},
   "outputs": [
    {
     "data": {
      "text/plain": [
       "True"
      ]
     },
     "execution_count": 3,
     "metadata": {},
     "output_type": "execute_result"
    }
   ],
   "source": [
    "scoops = [2, 4, 6, 8]\n",
    "wanted_scoops = 8\n",
    "\n",
    "wanted_scoops in scoops"
   ]
  },
  {
   "cell_type": "code",
   "execution_count": 4,
   "id": "8b18f4a8",
   "metadata": {},
   "outputs": [
    {
     "data": {
      "text/plain": [
       "False"
      ]
     },
     "execution_count": 4,
     "metadata": {},
     "output_type": "execute_result"
    }
   ],
   "source": [
    "scoops = [2, 4, 6, 8]\n",
    "wanted_scoops = 3\n",
    "\n",
    "wanted_scoops in scoops"
   ]
  },
  {
   "cell_type": "code",
   "execution_count": null,
   "id": "d23cdf0b",
   "metadata": {},
   "outputs": [],
   "source": []
  }
 ],
 "metadata": {
  "kernelspec": {
   "display_name": "Python 3 (ipykernel)",
   "language": "python",
   "name": "python3"
  },
  "language_info": {
   "codemirror_mode": {
    "name": "ipython",
    "version": 3
   },
   "file_extension": ".py",
   "mimetype": "text/x-python",
   "name": "python",
   "nbconvert_exporter": "python",
   "pygments_lexer": "ipython3",
   "version": "3.11.5"
  }
 },
 "nbformat": 4,
 "nbformat_minor": 5
}
