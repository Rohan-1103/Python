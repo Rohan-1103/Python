{
 "cells": [
  {
   "cell_type": "code",
   "execution_count": 1,
   "id": "175124d5",
   "metadata": {},
   "outputs": [
    {
     "name": "stdout",
     "output_type": "stream",
     "text": [
      "[1 2 3]\n"
     ]
    }
   ],
   "source": [
    "import numpy as np\n",
    "\n",
    "arr1 = np.array([1, 2, 3])\n",
    "\n",
    "print(arr1)"
   ]
  },
  {
   "cell_type": "code",
   "execution_count": 9,
   "id": "bbab4d1c",
   "metadata": {},
   "outputs": [
    {
     "name": "stdout",
     "output_type": "stream",
     "text": [
      "<class 'numpy.ndarray'>\n"
     ]
    }
   ],
   "source": [
    "print(type(arr1))"
   ]
  },
  {
   "cell_type": "code",
   "execution_count": 11,
   "id": "ac6b81fa",
   "metadata": {},
   "outputs": [
    {
     "name": "stdout",
     "output_type": "stream",
     "text": [
      "(3,)\n"
     ]
    }
   ],
   "source": [
    "print(arr1.shape)"
   ]
  },
  {
   "cell_type": "code",
   "execution_count": 13,
   "id": "95055ad2",
   "metadata": {},
   "outputs": [
    {
     "name": "stdout",
     "output_type": "stream",
     "text": [
      "3\n"
     ]
    }
   ],
   "source": [
    "print(arr1[2])"
   ]
  },
  {
   "cell_type": "code",
   "execution_count": 14,
   "id": "54f4f2f1",
   "metadata": {},
   "outputs": [],
   "source": [
    "arr1[2] = 5"
   ]
  },
  {
   "cell_type": "code",
   "execution_count": 15,
   "id": "59eed83b",
   "metadata": {},
   "outputs": [
    {
     "name": "stdout",
     "output_type": "stream",
     "text": [
      "[1 2 5]\n"
     ]
    }
   ],
   "source": [
    "print(arr1)"
   ]
  },
  {
   "cell_type": "code",
   "execution_count": 17,
   "id": "b75345f9",
   "metadata": {},
   "outputs": [],
   "source": [
    "arr2 = np.array([[1, 2, 3], [3, 4, 5]])"
   ]
  },
  {
   "cell_type": "code",
   "execution_count": 18,
   "id": "7837e6a8",
   "metadata": {},
   "outputs": [
    {
     "data": {
      "text/plain": [
       "array([[1, 2, 3],\n",
       "       [3, 4, 5]])"
      ]
     },
     "execution_count": 18,
     "metadata": {},
     "output_type": "execute_result"
    }
   ],
   "source": [
    "arr2"
   ]
  },
  {
   "cell_type": "code",
   "execution_count": 20,
   "id": "ebc8d130",
   "metadata": {},
   "outputs": [
    {
     "name": "stdout",
     "output_type": "stream",
     "text": [
      "5\n"
     ]
    }
   ],
   "source": [
    "print(arr2[1][2])"
   ]
  },
  {
   "cell_type": "code",
   "execution_count": 21,
   "id": "6c0e5618",
   "metadata": {},
   "outputs": [
    {
     "name": "stdout",
     "output_type": "stream",
     "text": [
      "(2, 3)\n"
     ]
    }
   ],
   "source": [
    "print(arr2.shape)"
   ]
  },
  {
   "cell_type": "code",
   "execution_count": 22,
   "id": "ac721ba0",
   "metadata": {},
   "outputs": [
    {
     "data": {
      "text/plain": [
       "2"
      ]
     },
     "execution_count": 22,
     "metadata": {},
     "output_type": "execute_result"
    }
   ],
   "source": [
    "arr2[0, 1]"
   ]
  },
  {
   "cell_type": "code",
   "execution_count": 23,
   "id": "e79c4217",
   "metadata": {},
   "outputs": [
    {
     "data": {
      "text/plain": [
       "4"
      ]
     },
     "execution_count": 23,
     "metadata": {},
     "output_type": "execute_result"
    }
   ],
   "source": [
    "arr2[1, -2]"
   ]
  },
  {
   "cell_type": "code",
   "execution_count": 24,
   "id": "9e54446c",
   "metadata": {},
   "outputs": [],
   "source": [
    "arrS = np.array(['China', 'India', 'USA', 'UK', 'Sweden'])"
   ]
  },
  {
   "cell_type": "code",
   "execution_count": 25,
   "id": "b8ef0321",
   "metadata": {},
   "outputs": [
    {
     "name": "stdout",
     "output_type": "stream",
     "text": [
      "['China' 'India' 'USA' 'UK' 'Sweden']\n"
     ]
    }
   ],
   "source": [
    "print(arrS)"
   ]
  },
  {
   "cell_type": "code",
   "execution_count": 26,
   "id": "21ddd2c6",
   "metadata": {},
   "outputs": [
    {
     "data": {
      "text/plain": [
       "array([ 0,  2,  4,  6,  8, 10, 12, 14, 16, 18])"
      ]
     },
     "execution_count": 26,
     "metadata": {},
     "output_type": "execute_result"
    }
   ],
   "source": [
    "arrR = np.arange(0, 20, 2)\n",
    "arrR"
   ]
  },
  {
   "cell_type": "code",
   "execution_count": 27,
   "id": "74c8a95b",
   "metadata": {},
   "outputs": [
    {
     "name": "stdout",
     "output_type": "stream",
     "text": [
      "[ 0  2  4  6  8 10 12 14 16 18]\n"
     ]
    }
   ],
   "source": [
    "print(arrR)"
   ]
  },
  {
   "cell_type": "code",
   "execution_count": 28,
   "id": "c1ce2ffc",
   "metadata": {},
   "outputs": [],
   "source": [
    "arrL = np.linspace(0, 10, 20)"
   ]
  },
  {
   "cell_type": "code",
   "execution_count": 29,
   "id": "efc1592c",
   "metadata": {},
   "outputs": [
    {
     "name": "stdout",
     "output_type": "stream",
     "text": [
      "[ 0.          0.52631579  1.05263158  1.57894737  2.10526316  2.63157895\n",
      "  3.15789474  3.68421053  4.21052632  4.73684211  5.26315789  5.78947368\n",
      "  6.31578947  6.84210526  7.36842105  7.89473684  8.42105263  8.94736842\n",
      "  9.47368421 10.        ]\n"
     ]
    }
   ],
   "source": [
    "print(arrL)"
   ]
  },
  {
   "cell_type": "code",
   "execution_count": 30,
   "id": "828b9e2e",
   "metadata": {},
   "outputs": [
    {
     "name": "stdout",
     "output_type": "stream",
     "text": [
      "[0.83249966 0.33618665 0.13357145 0.30973497 0.35182404 0.78177196\n",
      " 0.51155928 0.52909224 0.44007838 0.19435283 0.26626509 0.1206394\n",
      " 0.41937537 0.10459577 0.74671063 0.46524921 0.01501915 0.3569628\n",
      " 0.94874693 0.82066595 0.00568977 0.18158525 0.88943832 0.92454219\n",
      " 0.54407121 0.58407122 0.5375392  0.51085501 0.79839205 0.79606443\n",
      " 0.61116417 0.16741923 0.72052635 0.52205121 0.33426889 0.65826965\n",
      " 0.69136968 0.40309173 0.76225248 0.62431399 0.71238243 0.72700575\n",
      " 0.81069926 0.12442852 0.01156681 0.96338261 0.15735893 0.79119338\n",
      " 0.27887583 0.24091851 0.0019898  0.98106234 0.5936614  0.33898149\n",
      " 0.20422073 0.55181165 0.19601919 0.96793156 0.93034493 0.15914462\n",
      " 0.97815217 0.05237283 0.1905762  0.15961395 0.8315371  0.00575277\n",
      " 0.75031923 0.26360027 0.87292986 0.60553278 0.29997122 0.49881792\n",
      " 0.96608235 0.75590659 0.35395217 0.6002366  0.7939617  0.28519699\n",
      " 0.29598098 0.83237632 0.53476601 0.75349158 0.1123007  0.84402787\n",
      " 0.68316604 0.67385542 0.2668077  0.50428196 0.23180626 0.56708344\n",
      " 0.66878414 0.79588328 0.88800134 0.61111958 0.80047883 0.85505085\n",
      " 0.03679718 0.67771753 0.98940548 0.99789901]\n"
     ]
    }
   ],
   "source": [
    "arr = np.random.rand(10 * 10)\n",
    "print(arr)"
   ]
  },
  {
   "cell_type": "code",
   "execution_count": 31,
   "id": "838a5111",
   "metadata": {},
   "outputs": [
    {
     "name": "stdout",
     "output_type": "stream",
     "text": [
      "[[0.86708864 0.36018092 0.73707093 0.34062544]\n",
      " [0.84475234 0.74534273 0.15602294 0.02271554]\n",
      " [0.51684887 0.3641022  0.53327142 0.49106229]]\n"
     ]
    }
   ],
   "source": [
    "arr = np.random.rand(3, 4)\n",
    "print(arr)"
   ]
  },
  {
   "cell_type": "code",
   "execution_count": 34,
   "id": "0a46a62a",
   "metadata": {},
   "outputs": [
    {
     "name": "stdout",
     "output_type": "stream",
     "text": [
      "[0. 0. 0. 0. 0. 0. 0. 0. 0. 0.]\n",
      "/n\n",
      "[[0. 0. 0.]\n",
      " [0. 0. 0.]]\n"
     ]
    }
   ],
   "source": [
    "print(np.zeros(10))\n",
    "print('/n')\n",
    "print(np.zeros((2, 3)))"
   ]
  },
  {
   "cell_type": "code",
   "execution_count": 35,
   "id": "25eb0653",
   "metadata": {},
   "outputs": [
    {
     "name": "stdout",
     "output_type": "stream",
     "text": [
      "[[1. 1. 1. 1. 1. 1. 1. 1. 1. 1.]\n",
      " [1. 1. 1. 1. 1. 1. 1. 1. 1. 1.]\n",
      " [1. 1. 1. 1. 1. 1. 1. 1. 1. 1.]\n",
      " [1. 1. 1. 1. 1. 1. 1. 1. 1. 1.]\n",
      " [1. 1. 1. 1. 1. 1. 1. 1. 1. 1.]\n",
      " [1. 1. 1. 1. 1. 1. 1. 1. 1. 1.]\n",
      " [1. 1. 1. 1. 1. 1. 1. 1. 1. 1.]\n",
      " [1. 1. 1. 1. 1. 1. 1. 1. 1. 1.]\n",
      " [1. 1. 1. 1. 1. 1. 1. 1. 1. 1.]\n",
      " [1. 1. 1. 1. 1. 1. 1. 1. 1. 1.]]\n"
     ]
    }
   ],
   "source": [
    "print(np.ones((10, 10)))"
   ]
  },
  {
   "cell_type": "code",
   "execution_count": 36,
   "id": "770b9d6e",
   "metadata": {},
   "outputs": [
    {
     "name": "stdout",
     "output_type": "stream",
     "text": [
      "[0, 1, 2]\n"
     ]
    }
   ],
   "source": [
    "arr = [0, 1, 2]\n",
    "print(arr)"
   ]
  },
  {
   "cell_type": "code",
   "execution_count": 37,
   "id": "3ba1524a",
   "metadata": {},
   "outputs": [
    {
     "name": "stdout",
     "output_type": "stream",
     "text": [
      "[0 0 0 1 1 1 2 2 2]\n"
     ]
    }
   ],
   "source": [
    "print(np.repeat(arr, 3))"
   ]
  },
  {
   "cell_type": "code",
   "execution_count": 38,
   "id": "129ceb31",
   "metadata": {},
   "outputs": [
    {
     "name": "stdout",
     "output_type": "stream",
     "text": [
      "[0 1 2 0 1 2 0 1 2]\n"
     ]
    }
   ],
   "source": [
    "print(np.tile(arr, 3))"
   ]
  },
  {
   "cell_type": "code",
   "execution_count": 39,
   "id": "d52b86b0",
   "metadata": {},
   "outputs": [
    {
     "ename": "TypeError",
     "evalue": "'function' object is not subscriptable",
     "output_type": "error",
     "traceback": [
      "\u001b[1;31m---------------------------------------------------------------------------\u001b[0m",
      "\u001b[1;31mTypeError\u001b[0m                                 Traceback (most recent call last)",
      "Cell \u001b[1;32mIn[39], line 1\u001b[0m\n\u001b[1;32m----> 1\u001b[0m identity_matrix \u001b[38;5;241m=\u001b[39m np\u001b[38;5;241m.\u001b[39meye[\u001b[38;5;241m3\u001b[39m]\n\u001b[0;32m      2\u001b[0m \u001b[38;5;28mprint\u001b[39m(identity_matrix)\n",
      "\u001b[1;31mTypeError\u001b[0m: 'function' object is not subscriptable"
     ]
    }
   ],
   "source": [
    "identity_matrix = np.eye[3]\n",
    "print(identity_matrix)"
   ]
  },
  {
   "cell_type": "code",
   "execution_count": 40,
   "id": "94f32a18",
   "metadata": {},
   "outputs": [
    {
     "name": "stdout",
     "output_type": "stream",
     "text": [
      "<function eye at 0x000001DCF85E04A0>\n"
     ]
    }
   ],
   "source": [
    "print(np.eye)"
   ]
  },
  {
   "cell_type": "code",
   "execution_count": 41,
   "id": "fffbd5f4",
   "metadata": {},
   "outputs": [
    {
     "ename": "NameError",
     "evalue": "name 'identity_matrix' is not defined",
     "output_type": "error",
     "traceback": [
      "\u001b[1;31m---------------------------------------------------------------------------\u001b[0m",
      "\u001b[1;31mNameError\u001b[0m                                 Traceback (most recent call last)",
      "Cell \u001b[1;32mIn[41], line 1\u001b[0m\n\u001b[1;32m----> 1\u001b[0m identity_matrix\n",
      "\u001b[1;31mNameError\u001b[0m: name 'identity_matrix' is not defined"
     ]
    }
   ],
   "source": [
    "identity_matrix"
   ]
  },
  {
   "cell_type": "code",
   "execution_count": 42,
   "id": "8bd27289",
   "metadata": {},
   "outputs": [],
   "source": [
    "identity_matrix = np.eye(3)"
   ]
  },
  {
   "cell_type": "code",
   "execution_count": 43,
   "id": "b366c074",
   "metadata": {},
   "outputs": [
    {
     "name": "stdout",
     "output_type": "stream",
     "text": [
      "[[1. 0. 0.]\n",
      " [0. 1. 0.]\n",
      " [0. 0. 1.]]\n"
     ]
    }
   ],
   "source": [
    "print(identity_matrix)"
   ]
  },
  {
   "cell_type": "code",
   "execution_count": 44,
   "id": "76c74ba5",
   "metadata": {},
   "outputs": [
    {
     "data": {
      "text/plain": [
       "array([[1, 0, 0, 0, 0],\n",
       "       [0, 2, 0, 0, 0],\n",
       "       [0, 0, 3, 0, 0],\n",
       "       [0, 0, 0, 4, 0],\n",
       "       [0, 0, 0, 0, 5]])"
      ]
     },
     "execution_count": 44,
     "metadata": {},
     "output_type": "execute_result"
    }
   ],
   "source": [
    "np.diag([1, 2, 3, 4, 5])"
   ]
  },
  {
   "cell_type": "code",
   "execution_count": 45,
   "id": "4850dfee",
   "metadata": {},
   "outputs": [
    {
     "name": "stdout",
     "output_type": "stream",
     "text": [
      "[[0.81378403 0.04329931 0.5127288  0.91922472 0.08116307]\n",
      " [0.03182934 0.53717849 0.79064655 0.21552168 0.74361751]\n",
      " [0.61410937 0.04432458 0.7139554  0.15393216 0.26337851]\n",
      " [0.25446821 0.29286591 0.00666684 0.87495699 0.8248972 ]\n",
      " [0.90527235 0.0383955  0.95322404 0.98877002 0.68347364]]\n"
     ]
    }
   ],
   "source": [
    "arr = np.random.rand(5, 5)\n",
    "print(arr)"
   ]
  },
  {
   "cell_type": "code",
   "execution_count": 46,
   "id": "54713f72",
   "metadata": {},
   "outputs": [
    {
     "data": {
      "text/plain": [
       "array([0.81378403, 0.53717849, 0.7139554 , 0.87495699, 0.68347364])"
      ]
     },
     "execution_count": 46,
     "metadata": {},
     "output_type": "execute_result"
    }
   ],
   "source": [
    "np.diag(arr)"
   ]
  },
  {
   "cell_type": "code",
   "execution_count": 47,
   "id": "b22e67b6",
   "metadata": {},
   "outputs": [
    {
     "data": {
      "text/plain": [
       "2"
      ]
     },
     "execution_count": 47,
     "metadata": {},
     "output_type": "execute_result"
    }
   ],
   "source": [
    "arr.ndim"
   ]
  },
  {
   "cell_type": "code",
   "execution_count": 48,
   "id": "ec846ce6",
   "metadata": {},
   "outputs": [
    {
     "data": {
      "text/plain": [
       "25"
      ]
     },
     "execution_count": 48,
     "metadata": {},
     "output_type": "execute_result"
    }
   ],
   "source": [
    "arr.size"
   ]
  },
  {
   "cell_type": "code",
   "execution_count": 49,
   "id": "9066b9fc",
   "metadata": {},
   "outputs": [
    {
     "data": {
      "text/plain": [
       "(5, 5)"
      ]
     },
     "execution_count": 49,
     "metadata": {},
     "output_type": "execute_result"
    }
   ],
   "source": [
    "arr.shape"
   ]
  },
  {
   "cell_type": "code",
   "execution_count": 50,
   "id": "ec617654",
   "metadata": {},
   "outputs": [
    {
     "data": {
      "text/plain": [
       "array([  1,  -8, -10,  -6,   6,   0])"
      ]
     },
     "execution_count": 50,
     "metadata": {},
     "output_type": "execute_result"
    }
   ],
   "source": [
    "np.random.randint(-10, 10, 6)"
   ]
  },
  {
   "cell_type": "code",
   "execution_count": 54,
   "id": "e60365be",
   "metadata": {},
   "outputs": [
    {
     "data": {
      "text/plain": [
       "array([[1.62756806, 0.08659862, 1.02545761, 1.83844944, 0.16232614],\n",
       "       [0.06365868, 1.07435698, 1.5812931 , 0.43104335, 1.48723502],\n",
       "       [1.22821874, 0.08864916, 1.42791081, 0.30786431, 0.52675701],\n",
       "       [0.50893641, 0.58573183, 0.01333369, 1.74991398, 1.64979439],\n",
       "       [1.8105447 , 0.076791  , 1.90644808, 1.97754005, 1.36694728]])"
      ]
     },
     "execution_count": 54,
     "metadata": {},
     "output_type": "execute_result"
    }
   ],
   "source": [
    "arr*2"
   ]
  },
  {
   "cell_type": "code",
   "execution_count": 55,
   "id": "b144e5ac",
   "metadata": {},
   "outputs": [
    {
     "data": {
      "text/plain": [
       "array([[2.25643025, 1.0442504 , 1.66984165, 2.50734574, 1.08454774],\n",
       "       [1.03234131, 1.71117196, 2.20482149, 1.24050887, 2.10353132],\n",
       "       [1.84800998, 1.04532159, 2.04205245, 1.16641175, 1.30131918],\n",
       "       [1.28977554, 1.34026307, 1.00668912, 2.39877212, 2.28164619],\n",
       "       [2.47260524, 1.03914213, 2.59405955, 2.68792635, 1.9807462 ]])"
      ]
     },
     "execution_count": 55,
     "metadata": {},
     "output_type": "execute_result"
    }
   ],
   "source": [
    "np.exp(arr)"
   ]
  },
  {
   "cell_type": "code",
   "execution_count": 56,
   "id": "3b2060a9",
   "metadata": {},
   "outputs": [
    {
     "name": "stdout",
     "output_type": "stream",
     "text": [
      "[[0.81378403 0.04329931 0.5127288  0.91922472 0.08116307]\n",
      " [0.03182934 0.53717849 0.79064655 0.21552168 0.74361751]\n",
      " [0.61410937 0.04432458 0.7139554  0.15393216 0.26337851]\n",
      " [0.25446821 0.29286591 0.00666684 0.87495699 0.8248972 ]\n",
      " [0.90527235 0.0383955  0.95322404 0.98877002 0.68347364]]\n"
     ]
    }
   ],
   "source": [
    "print(arr)"
   ]
  },
  {
   "cell_type": "code",
   "execution_count": 57,
   "id": "205e1b2e",
   "metadata": {},
   "outputs": [
    {
     "data": {
      "text/plain": [
       "array([[-0.20606027, -3.13961863, -0.66800822, -0.08422466, -2.51129493],\n",
       "       [-3.44736682, -0.62142485, -0.23490425, -1.53469378, -0.29622847],\n",
       "       [-0.48758224, -3.11621591, -0.33693478, -1.87124332, -1.33416309],\n",
       "       [-1.36857938, -1.2280404 , -5.01060885, -0.13358055, -0.19249651],\n",
       "       [-0.09951944, -3.25981499, -0.04790531, -0.01129351, -0.38056719]])"
      ]
     },
     "execution_count": 57,
     "metadata": {},
     "output_type": "execute_result"
    }
   ],
   "source": [
    "np.log(arr)"
   ]
  },
  {
   "cell_type": "code",
   "execution_count": 58,
   "id": "64eac06c",
   "metadata": {},
   "outputs": [
    {
     "data": {
      "text/plain": [
       "array([[-0.29728213, -4.52951223, -0.96373215, -0.1215105 , -3.62303274],\n",
       "       [-4.97349902, -0.89652655, -0.3388952 , -2.21409511, -0.42736735],\n",
       "       [-0.70343247, -4.49574925, -0.48609414, -2.69963347, -1.92479048],\n",
       "       [-1.97444268, -1.7716878 , -7.22878054, -0.19271599, -0.27771376],\n",
       "       [-0.14357621, -4.70291892, -0.06911276, -0.01629309, -0.5490424 ]])"
      ]
     },
     "execution_count": 58,
     "metadata": {},
     "output_type": "execute_result"
    }
   ],
   "source": [
    "np.log2(arr)"
   ]
  },
  {
   "cell_type": "code",
   "execution_count": 59,
   "id": "069fac60",
   "metadata": {},
   "outputs": [
    {
     "data": {
      "text/plain": [
       "array([[-0.08949084, -1.36351905, -0.29011228, -0.03657831, -1.09064153],\n",
       "       [-1.49717239, -0.26988138, -0.10201762, -0.66650904, -0.12865039],\n",
       "       [-0.21175427, -1.35335538, -0.14632892, -0.81267065, -0.57941967],\n",
       "       [-0.59436647, -0.53333117, -2.17607977, -0.05801329, -0.08360017],\n",
       "       [-0.04322075, -1.41571966, -0.02080501, -0.00490471, -0.16527823]])"
      ]
     },
     "execution_count": 59,
     "metadata": {},
     "output_type": "execute_result"
    }
   ],
   "source": [
    "np.log10(arr)"
   ]
  },
  {
   "cell_type": "code",
   "execution_count": 60,
   "id": "3112cab4",
   "metadata": {},
   "outputs": [
    {
     "data": {
      "text/plain": [
       "array([[0.72689107, 0.04328578, 0.49055697, 0.7951317 , 0.08107399],\n",
       "       [0.03182396, 0.51171392, 0.7108082 , 0.21385707, 0.67695491],\n",
       "       [0.57623085, 0.04431007, 0.65482829, 0.15332497, 0.26034403],\n",
       "       [0.25173078, 0.28869729, 0.00666679, 0.76751593, 0.73447802],\n",
       "       [0.78659335, 0.03838607, 0.81528664, 0.83535047, 0.63149023]])"
      ]
     },
     "execution_count": 60,
     "metadata": {},
     "output_type": "execute_result"
    }
   ],
   "source": [
    "np.sin(arr)"
   ]
  },
  {
   "cell_type": "code",
   "execution_count": 61,
   "id": "6473f316",
   "metadata": {},
   "outputs": [
    {
     "data": {
      "text/plain": [
       "array([[1.05844649, 0.04332639, 0.5629468 , 1.31115347, 0.08134176],\n",
       "       [0.03184009, 0.59560077, 1.01055225, 0.21892183, 0.9197451 ],\n",
       "       [0.70505326, 0.04435363, 0.86642978, 0.1551596 , 0.2696424 ],\n",
       "       [0.26010692, 0.30153659, 0.00666694, 1.19731696, 1.0822913 ],\n",
       "       [1.27389444, 0.03841438, 1.40795435, 1.51959891, 0.81442275]])"
      ]
     },
     "execution_count": 61,
     "metadata": {},
     "output_type": "execute_result"
    }
   ],
   "source": [
    "np.tan(arr)"
   ]
  },
  {
   "cell_type": "code",
   "execution_count": 62,
   "id": "b676721b",
   "metadata": {},
   "outputs": [
    {
     "data": {
      "text/plain": [
       "array([[0.81378403, 0.04329931, 0.5127288 , 0.91922472, 0.08116307],\n",
       "       [0.03182934, 0.53717849, 0.79064655, 0.21552168, 0.74361751],\n",
       "       [0.61410937, 0.04432458, 0.7139554 , 0.15393216, 0.26337851],\n",
       "       [0.25446821, 0.29286591, 0.00666684, 0.87495699, 0.8248972 ],\n",
       "       [0.90527235, 0.0383955 , 0.95322404, 0.98877002, 0.68347364]])"
      ]
     },
     "execution_count": 62,
     "metadata": {},
     "output_type": "execute_result"
    }
   ],
   "source": [
    "arr"
   ]
  },
  {
   "cell_type": "code",
   "execution_count": 63,
   "id": "7f25e36a",
   "metadata": {},
   "outputs": [
    {
     "data": {
      "text/plain": [
       "12.301684226502724"
      ]
     },
     "execution_count": 63,
     "metadata": {},
     "output_type": "execute_result"
    }
   ],
   "source": [
    "np.sum(arr)"
   ]
  },
  {
   "cell_type": "code",
   "execution_count": 64,
   "id": "e5319dc7",
   "metadata": {},
   "outputs": [
    {
     "data": {
      "text/plain": [
       "array([2.6194633 , 0.9560638 , 2.97722164, 3.15240557, 2.59652993])"
      ]
     },
     "execution_count": 64,
     "metadata": {},
     "output_type": "execute_result"
    }
   ],
   "source": [
    "np.sum(arr, axis = 0)"
   ]
  },
  {
   "cell_type": "code",
   "execution_count": 66,
   "id": "d911dc13",
   "metadata": {},
   "outputs": [
    {
     "data": {
      "text/plain": [
       "array([2.37019993, 2.31879357, 1.78970002, 2.25385515, 3.56913556])"
      ]
     },
     "execution_count": 66,
     "metadata": {},
     "output_type": "execute_result"
    }
   ],
   "source": [
    "np.sum(arr, axis = 1)"
   ]
  },
  {
   "cell_type": "code",
   "execution_count": 67,
   "id": "737346be",
   "metadata": {},
   "outputs": [
    {
     "data": {
      "text/plain": [
       "0.006666842980664112"
      ]
     },
     "execution_count": 67,
     "metadata": {},
     "output_type": "execute_result"
    }
   ],
   "source": [
    "np.min(arr)\n"
   ]
  },
  {
   "cell_type": "code",
   "execution_count": 68,
   "id": "75cce256",
   "metadata": {},
   "outputs": [
    {
     "data": {
      "text/plain": [
       "array([0.03182934, 0.0383955 , 0.00666684, 0.15393216, 0.08116307])"
      ]
     },
     "execution_count": 68,
     "metadata": {},
     "output_type": "execute_result"
    }
   ],
   "source": [
    "np.min(arr, axis = 0)"
   ]
  },
  {
   "cell_type": "code",
   "execution_count": 69,
   "id": "8a10372b",
   "metadata": {},
   "outputs": [
    {
     "data": {
      "text/plain": [
       "array([0.04329931, 0.03182934, 0.04432458, 0.00666684, 0.0383955 ])"
      ]
     },
     "execution_count": 69,
     "metadata": {},
     "output_type": "execute_result"
    }
   ],
   "source": [
    "np.min(arr, axis = 1)"
   ]
  },
  {
   "cell_type": "code",
   "execution_count": 70,
   "id": "73558ff9",
   "metadata": {},
   "outputs": [
    {
     "data": {
      "text/plain": [
       "0.49206736906010895"
      ]
     },
     "execution_count": 70,
     "metadata": {},
     "output_type": "execute_result"
    }
   ],
   "source": [
    "np.mean(arr)"
   ]
  },
  {
   "cell_type": "code",
   "execution_count": 72,
   "id": "26a31486",
   "metadata": {},
   "outputs": [
    {
     "data": {
      "text/plain": [
       "0.5371784924482533"
      ]
     },
     "execution_count": 72,
     "metadata": {},
     "output_type": "execute_result"
    }
   ],
   "source": [
    "np.median(arr)"
   ]
  },
  {
   "cell_type": "code",
   "execution_count": 74,
   "id": "42f56d56",
   "metadata": {},
   "outputs": [
    {
     "data": {
      "text/plain": [
       "0.49206736906010895"
      ]
     },
     "execution_count": 74,
     "metadata": {},
     "output_type": "execute_result"
    }
   ],
   "source": [
    "np.mean(arr)"
   ]
  },
  {
   "cell_type": "code",
   "execution_count": 76,
   "id": "38125d96",
   "metadata": {},
   "outputs": [
    {
     "data": {
      "text/plain": [
       "array([0.47403999, 0.46375871, 0.35794   , 0.45077103, 0.71382711])"
      ]
     },
     "execution_count": 76,
     "metadata": {},
     "output_type": "execute_result"
    }
   ],
   "source": [
    "np.mean(arr, axis = 1)"
   ]
  },
  {
   "cell_type": "code",
   "execution_count": 77,
   "id": "2af336ad",
   "metadata": {},
   "outputs": [
    {
     "data": {
      "text/plain": [
       "0.3459665919915634"
      ]
     },
     "execution_count": 77,
     "metadata": {},
     "output_type": "execute_result"
    }
   ],
   "source": [
    "np.std(arr)"
   ]
  },
  {
   "cell_type": "code",
   "execution_count": 78,
   "id": "89b95838",
   "metadata": {},
   "outputs": [
    {
     "data": {
      "text/plain": [
       "array([0.3619398 , 0.29622683, 0.26126057, 0.34076428, 0.35402965])"
      ]
     },
     "execution_count": 78,
     "metadata": {},
     "output_type": "execute_result"
    }
   ],
   "source": [
    "np.std(arr, axis = 1)"
   ]
  },
  {
   "cell_type": "code",
   "execution_count": 79,
   "id": "4a25f0ca",
   "metadata": {},
   "outputs": [
    {
     "data": {
      "text/plain": [
       "array([0.33236798, 0.19841033, 0.32669738, 0.36627927, 0.29261605])"
      ]
     },
     "execution_count": 79,
     "metadata": {},
     "output_type": "execute_result"
    }
   ],
   "source": [
    "np.std(arr, axis = 0)"
   ]
  },
  {
   "cell_type": "code",
   "execution_count": 80,
   "id": "20130cb9",
   "metadata": {},
   "outputs": [
    {
     "data": {
      "text/plain": [
       "0.11969288277425688"
      ]
     },
     "execution_count": 80,
     "metadata": {},
     "output_type": "execute_result"
    }
   ],
   "source": [
    "np.var(arr)"
   ]
  },
  {
   "cell_type": "code",
   "execution_count": 81,
   "id": "bd154889",
   "metadata": {},
   "outputs": [
    {
     "data": {
      "text/plain": [
       "array([0.13100042, 0.08775034, 0.06825708, 0.11612029, 0.12533699])"
      ]
     },
     "execution_count": 81,
     "metadata": {},
     "output_type": "execute_result"
    }
   ],
   "source": [
    "np.var(arr, axis = 1)"
   ]
  },
  {
   "cell_type": "code",
   "execution_count": 83,
   "id": "93073ad1",
   "metadata": {},
   "outputs": [
    {
     "data": {
      "text/plain": [
       "array([[0.81378403, 0.04329931, 0.5127288 , 0.91922472, 0.08116307],\n",
       "       [0.03182934, 0.53717849, 0.79064655, 0.21552168, 0.74361751],\n",
       "       [0.61410937, 0.04432458, 0.7139554 , 0.15393216, 0.26337851],\n",
       "       [0.25446821, 0.29286591, 0.00666684, 0.87495699, 0.8248972 ],\n",
       "       [0.90527235, 0.0383955 , 0.95322404, 0.98877002, 0.68347364]])"
      ]
     },
     "execution_count": 83,
     "metadata": {},
     "output_type": "execute_result"
    }
   ],
   "source": [
    "arr"
   ]
  },
  {
   "cell_type": "code",
   "execution_count": 85,
   "id": "b6abbf22",
   "metadata": {},
   "outputs": [
    {
     "data": {
      "text/plain": [
       "array([[0.7139554 , 0.15393216],\n",
       "       [0.00666684, 0.87495699],\n",
       "       [0.95322404, 0.98877002]])"
      ]
     },
     "execution_count": 85,
     "metadata": {},
     "output_type": "execute_result"
    }
   ],
   "source": [
    "arr[2:, 2:4]"
   ]
  },
  {
   "cell_type": "code",
   "execution_count": 87,
   "id": "9bfcf189",
   "metadata": {},
   "outputs": [
    {
     "data": {
      "text/plain": [
       "array([[0.04329931, 0.08116307, 0.5127288 , 0.81378403, 0.91922472],\n",
       "       [0.03182934, 0.21552168, 0.53717849, 0.74361751, 0.79064655],\n",
       "       [0.04432458, 0.15393216, 0.26337851, 0.61410937, 0.7139554 ],\n",
       "       [0.00666684, 0.25446821, 0.29286591, 0.8248972 , 0.87495699],\n",
       "       [0.0383955 , 0.68347364, 0.90527235, 0.95322404, 0.98877002]])"
      ]
     },
     "execution_count": 87,
     "metadata": {},
     "output_type": "execute_result"
    }
   ],
   "source": [
    "np.sort(arr, axis = 1)"
   ]
  },
  {
   "cell_type": "code",
   "execution_count": 88,
   "id": "e3b1e71c",
   "metadata": {},
   "outputs": [
    {
     "data": {
      "text/plain": [
       "array([[0.81378403, 0.03182934, 0.61410937, 0.25446821, 0.90527235],\n",
       "       [0.04329931, 0.53717849, 0.04432458, 0.29286591, 0.0383955 ],\n",
       "       [0.5127288 , 0.79064655, 0.7139554 , 0.00666684, 0.95322404],\n",
       "       [0.91922472, 0.21552168, 0.15393216, 0.87495699, 0.98877002],\n",
       "       [0.08116307, 0.74361751, 0.26337851, 0.8248972 , 0.68347364]])"
      ]
     },
     "execution_count": 88,
     "metadata": {},
     "output_type": "execute_result"
    }
   ],
   "source": [
    "arr.T"
   ]
  },
  {
   "cell_type": "code",
   "execution_count": 89,
   "id": "5da04a17",
   "metadata": {},
   "outputs": [
    {
     "data": {
      "text/plain": [
       "array([[0.81378403, 0.04329931, 0.5127288 , 0.91922472, 0.08116307],\n",
       "       [0.03182934, 0.53717849, 0.79064655, 0.21552168, 0.74361751],\n",
       "       [0.61410937, 0.04432458, 0.7139554 , 0.15393216, 0.26337851],\n",
       "       [0.25446821, 0.29286591, 0.00666684, 0.87495699, 0.8248972 ],\n",
       "       [0.90527235, 0.0383955 , 0.95322404, 0.98877002, 0.68347364]])"
      ]
     },
     "execution_count": 89,
     "metadata": {},
     "output_type": "execute_result"
    }
   ],
   "source": [
    "arr"
   ]
  },
  {
   "cell_type": "code",
   "execution_count": 90,
   "id": "acc525e1",
   "metadata": {},
   "outputs": [
    {
     "data": {
      "text/plain": [
       "array([[0.81378403, 0.04329931, 0.5127288 , 0.91922472, 0.08116307],\n",
       "       [0.03182934, 0.53717849, 0.79064655, 0.21552168, 0.74361751],\n",
       "       [0.61410937, 0.04432458, 0.7139554 , 0.15393216, 0.26337851]])"
      ]
     },
     "execution_count": 90,
     "metadata": {},
     "output_type": "execute_result"
    }
   ],
   "source": [
    "arr[:3,:]"
   ]
  },
  {
   "cell_type": "code",
   "execution_count": 91,
   "id": "69995691",
   "metadata": {},
   "outputs": [
    {
     "data": {
      "text/plain": [
       "array([[0.81378403, 0.03182934, 0.61410937],\n",
       "       [0.04329931, 0.53717849, 0.04432458],\n",
       "       [0.5127288 , 0.79064655, 0.7139554 ],\n",
       "       [0.91922472, 0.21552168, 0.15393216],\n",
       "       [0.08116307, 0.74361751, 0.26337851]])"
      ]
     },
     "execution_count": 91,
     "metadata": {},
     "output_type": "execute_result"
    }
   ],
   "source": [
    "arr[:3, :].transpose()"
   ]
  },
  {
   "cell_type": "code",
   "execution_count": 92,
   "id": "d5c98750",
   "metadata": {},
   "outputs": [
    {
     "data": {
      "text/plain": [
       "array([0.81378403, 0.04329931, 0.5127288 , 0.91922472, 0.08116307,\n",
       "       0.03182934, 0.53717849, 0.79064655, 0.21552168, 0.74361751,\n",
       "       0.61410937, 0.04432458, 0.7139554 , 0.15393216, 0.26337851])"
      ]
     },
     "execution_count": 92,
     "metadata": {},
     "output_type": "execute_result"
    }
   ],
   "source": [
    "arr[:3, :].flatten()"
   ]
  },
  {
   "cell_type": "code",
   "execution_count": 93,
   "id": "5c3f1437",
   "metadata": {},
   "outputs": [
    {
     "name": "stdout",
     "output_type": "stream",
     "text": [
      "[4 5 6 7 8]\n"
     ]
    }
   ],
   "source": [
    "arr = np.array([4, 5, 6, 7, 8])\n",
    "print(arr)"
   ]
  },
  {
   "cell_type": "code",
   "execution_count": 94,
   "id": "891c2110",
   "metadata": {},
   "outputs": [
    {
     "name": "stdout",
     "output_type": "stream",
     "text": [
      "[4 5 6 7 8 9]\n"
     ]
    }
   ],
   "source": [
    "arr1 = np.append(arr, 9)\n",
    "print(arr1)"
   ]
  },
  {
   "cell_type": "code",
   "execution_count": 95,
   "id": "67bdaf7e",
   "metadata": {},
   "outputs": [
    {
     "name": "stdout",
     "output_type": "stream",
     "text": [
      "[1 2 3 4 5 6 7 8]\n"
     ]
    }
   ],
   "source": [
    "arr2 = np.insert(arr, 0, [1, 2, 3])\n",
    "print(arr2)"
   ]
  },
  {
   "cell_type": "code",
   "execution_count": 98,
   "id": "5aaf192f",
   "metadata": {},
   "outputs": [
    {
     "name": "stdout",
     "output_type": "stream",
     "text": [
      "[2 3 5 6 7 8]\n"
     ]
    }
   ],
   "source": [
    "arr3 = np.delete(arr2, [0, 3])\n",
    "print(arr3)"
   ]
  },
  {
   "cell_type": "code",
   "execution_count": 99,
   "id": "ac8eaf89",
   "metadata": {},
   "outputs": [
    {
     "data": {
      "text/plain": [
       "array([2, 3, 5, 6, 7, 8])"
      ]
     },
     "execution_count": 99,
     "metadata": {},
     "output_type": "execute_result"
    }
   ],
   "source": [
    "arrC = arr3.copy()\n",
    "arrC"
   ]
  },
  {
   "cell_type": "code",
   "execution_count": 100,
   "id": "eaa76ac9",
   "metadata": {},
   "outputs": [],
   "source": [
    "arr1 = np.array([[1, 2, 3, 4], [1, 2, 3, 4]])\n",
    "arr2 = np.array([[5, 6, 7, 8], [5, 6, 7, 8]])"
   ]
  },
  {
   "cell_type": "code",
   "execution_count": 104,
   "id": "85003f2e",
   "metadata": {},
   "outputs": [],
   "source": [
    "arr_cat = np.concatenate((arr1, arr2), axis = 1)"
   ]
  },
  {
   "cell_type": "code",
   "execution_count": 102,
   "id": "616ca759",
   "metadata": {},
   "outputs": [
    {
     "name": "stdout",
     "output_type": "stream",
     "text": [
      "[[1 2 3 4]\n",
      " [1 2 3 4]\n",
      " [5 6 7 8]\n",
      " [5 6 7 8]]\n"
     ]
    }
   ],
   "source": [
    "print(arr_cat)"
   ]
  },
  {
   "cell_type": "code",
   "execution_count": null,
   "id": "e77c0bd3",
   "metadata": {},
   "outputs": [],
   "source": []
  }
 ],
 "metadata": {
  "kernelspec": {
   "display_name": "Python 3 (ipykernel)",
   "language": "python",
   "name": "python3"
  },
  "language_info": {
   "codemirror_mode": {
    "name": "ipython",
    "version": 3
   },
   "file_extension": ".py",
   "mimetype": "text/x-python",
   "name": "python",
   "nbconvert_exporter": "python",
   "pygments_lexer": "ipython3",
   "version": "3.11.5"
  }
 },
 "nbformat": 4,
 "nbformat_minor": 5
}
