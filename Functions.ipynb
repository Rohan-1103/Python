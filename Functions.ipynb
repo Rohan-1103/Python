{
 "cells": [
  {
   "cell_type": "markdown",
   "id": "fefb3591",
   "metadata": {},
   "source": [
    "# functions"
   ]
  },
  {
   "cell_type": "code",
   "execution_count": 1,
   "id": "2046d858",
   "metadata": {},
   "outputs": [
    {
     "name": "stdout",
     "output_type": "stream",
     "text": [
      "We did it!!!\n"
     ]
    }
   ],
   "source": [
    "def first_func():\n",
    "    print(\"We did it!!!\")\n",
    "    \n",
    "first_func()"
   ]
  },
  {
   "cell_type": "code",
   "execution_count": 2,
   "id": "c3b1785e",
   "metadata": {},
   "outputs": [
    {
     "name": "stdout",
     "output_type": "stream",
     "text": [
      "25\n"
     ]
    }
   ],
   "source": [
    "def number_squared(number):\n",
    "    print(number**2)\n",
    "    \n",
    "number_squared(5)"
   ]
  },
  {
   "cell_type": "code",
   "execution_count": 4,
   "id": "a511ae38",
   "metadata": {},
   "outputs": [
    {
     "name": "stdout",
     "output_type": "stream",
     "text": [
      "256\n"
     ]
    }
   ],
   "source": [
    "def number_squared_cust(number, power):\n",
    "    print(number**power)\n",
    "    \n",
    "number_squared_cust(2, 8)"
   ]
  },
  {
   "cell_type": "code",
   "execution_count": null,
   "id": "65c6d7d0",
   "metadata": {},
   "outputs": [],
   "source": [
    "# arbitary argument"
   ]
  },
  {
   "cell_type": "code",
   "execution_count": 5,
   "id": "50929dbc",
   "metadata": {},
   "outputs": [],
   "source": [
    "def numbers_arg(*number):\n",
    "    print(number[0]*number[1])"
   ]
  },
  {
   "cell_type": "code",
   "execution_count": 6,
   "id": "4b97a556",
   "metadata": {},
   "outputs": [
    {
     "name": "stdout",
     "output_type": "stream",
     "text": [
      "30\n"
     ]
    }
   ],
   "source": [
    "numbers_arg(5, 6, 11, 2)"
   ]
  },
  {
   "cell_type": "code",
   "execution_count": 7,
   "id": "ae6b0c93",
   "metadata": {},
   "outputs": [],
   "source": [
    "args_tuple = (5, 6, 11, 2)\n",
    "\n",
    "def numbers_arg(*number):\n",
    "    print(number[0]*number[1])"
   ]
  },
  {
   "cell_type": "code",
   "execution_count": 8,
   "id": "85d9c9c5",
   "metadata": {},
   "outputs": [
    {
     "ename": "IndexError",
     "evalue": "tuple index out of range",
     "output_type": "error",
     "traceback": [
      "\u001b[1;31m---------------------------------------------------------------------------\u001b[0m",
      "\u001b[1;31mIndexError\u001b[0m                                Traceback (most recent call last)",
      "Cell \u001b[1;32mIn[8], line 1\u001b[0m\n\u001b[1;32m----> 1\u001b[0m numbers_arg(args_tuple)\n",
      "Cell \u001b[1;32mIn[7], line 4\u001b[0m, in \u001b[0;36mnumbers_arg\u001b[1;34m(*number)\u001b[0m\n\u001b[0;32m      3\u001b[0m \u001b[38;5;28;01mdef\u001b[39;00m \u001b[38;5;21mnumbers_arg\u001b[39m(\u001b[38;5;241m*\u001b[39mnumber):\n\u001b[1;32m----> 4\u001b[0m     \u001b[38;5;28mprint\u001b[39m(number[\u001b[38;5;241m0\u001b[39m]\u001b[38;5;241m*\u001b[39mnumber[\u001b[38;5;241m1\u001b[39m])\n",
      "\u001b[1;31mIndexError\u001b[0m: tuple index out of range"
     ]
    }
   ],
   "source": [
    "numbers_arg(args_tuple)"
   ]
  },
  {
   "cell_type": "code",
   "execution_count": 9,
   "id": "edb76d84",
   "metadata": {},
   "outputs": [
    {
     "name": "stdout",
     "output_type": "stream",
     "text": [
      "30\n"
     ]
    }
   ],
   "source": [
    "numbers_arg(*args_tuple)"
   ]
  },
  {
   "cell_type": "code",
   "execution_count": null,
   "id": "ba79981d",
   "metadata": {},
   "outputs": [],
   "source": [
    "# keyword argument"
   ]
  },
  {
   "cell_type": "code",
   "execution_count": 10,
   "id": "484fa060",
   "metadata": {},
   "outputs": [
    {
     "name": "stdout",
     "output_type": "stream",
     "text": [
      "64\n"
     ]
    }
   ],
   "source": [
    "def number_squared_cust(number, power):\n",
    "    print(number**power)\n",
    "    \n",
    "number_squared_cust(power = 2,number = 8)"
   ]
  },
  {
   "cell_type": "code",
   "execution_count": 11,
   "id": "deac3426",
   "metadata": {},
   "outputs": [],
   "source": [
    "# arbitary keyword argument"
   ]
  },
  {
   "cell_type": "code",
   "execution_count": 13,
   "id": "24cf0ed5",
   "metadata": {},
   "outputs": [],
   "source": [
    "def number_kwarg(**number):\n",
    "    print('My number is : ' + number['integer'])"
   ]
  },
  {
   "cell_type": "code",
   "execution_count": 14,
   "id": "91f53e4c",
   "metadata": {},
   "outputs": [
    {
     "name": "stdout",
     "output_type": "stream",
     "text": [
      "My number is : 64\n"
     ]
    }
   ],
   "source": [
    "number_kwarg(integer = '64')"
   ]
  },
  {
   "cell_type": "code",
   "execution_count": 16,
   "id": "4975f70b",
   "metadata": {},
   "outputs": [],
   "source": [
    "def number_kwarg_1(**number):\n",
    "    print('My number is : ' + number['roll_1'] + 'My other number: '+ number['roll_2'])"
   ]
  },
  {
   "cell_type": "code",
   "execution_count": 17,
   "id": "55dd4803",
   "metadata": {},
   "outputs": [
    {
     "name": "stdout",
     "output_type": "stream",
     "text": [
      "My number is : 64My other number: 71155\n"
     ]
    }
   ],
   "source": [
    "number_kwarg_1(roll_1 = '64', roll_2 = '71155')"
   ]
  }
 ],
 "metadata": {
  "kernelspec": {
   "display_name": "Python 3 (ipykernel)",
   "language": "python",
   "name": "python3"
  },
  "language_info": {
   "codemirror_mode": {
    "name": "ipython",
    "version": 3
   },
   "file_extension": ".py",
   "mimetype": "text/x-python",
   "name": "python",
   "nbconvert_exporter": "python",
   "pygments_lexer": "ipython3",
   "version": "3.11.5"
  }
 },
 "nbformat": 4,
 "nbformat_minor": 5
}
